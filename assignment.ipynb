# ============================================
# Assignment: Data Analysis and Visualization
# ============================================

# Import necessary libraries
import pandas as pd
import matplotlib.pyplot as plt
import seaborn as sns
from sklearn.datasets import load_iris

# --------------------------
# Task 1: Load and Explore the Dataset
# --------------------------

try:
    # Load the Iris dataset from sklearn
    iris_data = load_iris(as_frame=True)
    df = iris_data.frame  # DataFrame version
    
    print("✅ Dataset loaded successfully!\n")
except FileNotFoundError:
    print("❌ File not found. Please check the path and try again.")
except Exception as e:
    print(f"❌ An error occurred while loading the dataset: {e}")

# Display first few rows
print("📊 First 5 rows of the dataset:")
print(df.head(), "\n")

# Check data types and missing values
print("🔎 Data info:")
print(df.info(), "\n")

print("🔎 Missing values per column:")
print(df.isnull().sum(), "\n")

# Clean dataset (fill/drop missing values if any)
df = df.dropna()

# --------------------------
# Task 2: Basic Data Analysis
# --------------------------

# Summary statistics
print("📊 Summary statistics:")
print(df.describe(), "\n")

# Grouping by categorical column (species) and computing mean
grouped = df.groupby("target").mean()
print("📊 Mean values by species:")
print(grouped, "\n")

# --------------------------
# Task 3: Data Visualization
# --------------------------

# Set Seaborn style for nicer plots
sns.set(style="whitegrid")

# 1. Line chart (example: petal length over index)
plt.figure(figsize=(8,5))
plt.plot(df.index, df["petal length (cm)"], label="Petal Length")
plt.title("Line Chart: Petal Length over Index")
plt.xlabel("Index")
plt.ylabel("Petal Length (cm)")
plt.legend()
plt.show()

# 2. Bar chart (average petal length per species)
plt.figure(figsize=(8,5))
grouped["petal length (cm)"].plot(kind="bar", color="skyblue")
plt.title("Bar Chart: Average Petal Length by Species")
plt.xlabel("Species (0=Setosa, 1=Versicolor, 2=Virginica)")
plt.ylabel("Average Petal Length (cm)")
plt.show()

# 3. Histogram (distribution of sepal length)
plt.figure(figsize=(8,5))
plt.hist(df["sepal length (cm)"], bins=15, color="orange", edgecolor="black")
plt.title("Histogram: Sepal Length Distribution")
plt.xlabel("Sepal Length (cm)")
plt.ylabel("Frequency")
plt.show()

# 4. Scatter plot (sepal length vs. petal length)
plt.figure(figsize=(8,5))
plt.scatter(df["sepal length (cm)"], df["petal length (cm)"], alpha=0.7, c=df["target"], cmap="viridis")
plt.title("Scatter Plot: Sepal Length vs Petal Length")
plt.xlabel("Sepal Length (cm)")
plt.ylabel("Petal Length (cm)")
plt.colorbar(label="Species")
plt.show()
